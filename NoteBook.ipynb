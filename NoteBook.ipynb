{
 "cells": [
  {
   "cell_type": "code",
   "execution_count": 1,
   "metadata": {},
   "outputs": [],
   "source": [
    "import pandas as pd\n",
    "import numpy as np\n",
    "from sklearn.naive_bayes import GaussianNB\n",
    "from sklearn.preprocessing import OneHotEncoder\n",
    "from sklearn.metrics import confusion_matrix\n",
    "from sklearn.metrics import accuracy_score\n",
    "\n",
    "col_name = ['age','workclass','fnlwgt','education','education_num','marital_status','occupation',\n",
    "            'relationship','race','sex','capital_gain','capital_loss','hours_per_week','native_country',\n",
    "            'income']\n",
    "train = pd.read_csv('E:\\College Youmna\\Term 4\\Pattern Recognition\\Adult.data.csv', names=col_name)"
   ]
  },
  {
   "cell_type": "code",
   "execution_count": 7,
   "metadata": {},
   "outputs": [
    {
     "name": "stdout",
     "output_type": "stream",
     "text": [
      "age               0\n",
      "workclass         0\n",
      "fnlwgt            0\n",
      "education         0\n",
      "education_num     0\n",
      "marital_status    0\n",
      "occupation        0\n",
      "relationship      0\n",
      "race              0\n",
      "sex               0\n",
      "capital_gain      0\n",
      "capital_loss      0\n",
      "hours_per_week    0\n",
      "native_country    0\n",
      "income            0\n",
      "dtype: int64\n",
      "age               0\n",
      "workclass         0\n",
      "fnlwgt            0\n",
      "education         0\n",
      "education_num     0\n",
      "marital_status    0\n",
      "occupation        0\n",
      "relationship      0\n",
      "race              0\n",
      "sex               0\n",
      "capital_gain      0\n",
      "capital_loss      0\n",
      "hours_per_week    0\n",
      "native_country    0\n",
      "income            0\n",
      "dtype: int64\n"
     ]
    }
   ],
   "source": [
    "x_train = train.drop('income', axis='columns')\n",
    "y_train = pd.get_dummies(train['income']).drop(' <=50K',axis=1)\n",
    "print(train.isnull().sum())\n",
    "train.drop_duplicates()\n",
    "test = pd.read_csv('E:\\College Youmna\\Term 4\\Pattern Recognition\\Adult.test.csv',header=1,names=col_name)\n",
    "print(test.isnull().sum())\n",
    "test.drop_duplicates()\n",
    "x_test = test.drop('income', axis='columns')\n",
    "y_test = pd.get_dummies(test['income']).drop(' <=50K.',axis=1)"
   ]
  },
  {
   "cell_type": "code",
   "execution_count": 8,
   "metadata": {},
   "outputs": [],
   "source": [
    "combined_values = pd.concat([x_train,x_test],axis=0,ignore_index=True)\n",
    "\n",
    "categorical_columns = combined_values.select_dtypes(exclude=[np.number]).columns\n",
    "numerical_columns = combined_values.select_dtypes(include=[np.number]).columns\n",
    "encoder = OneHotEncoder(drop='first',sparse_output=False)\n",
    "encoded_data = encoder.fit_transform(combined_values[categorical_columns])\n",
    "encoded_df = pd.DataFrame(encoded_data,columns=encoder.get_feature_names_out(categorical_columns))\n",
    "data_encoded = pd.concat([combined_values[numerical_columns], encoded_df], axis=1)\n"
   ]
  },
  {
   "cell_type": "code",
   "execution_count": 9,
   "metadata": {},
   "outputs": [],
   "source": [
    "train_len = len(x_train)\n",
    "x_train = data_encoded.iloc[:train_len, :].reset_index(drop=True)\n",
    "x_test = data_encoded.iloc[train_len:, :].reset_index(drop=True)\n"
   ]
  },
  {
   "cell_type": "code",
   "execution_count": 6,
   "metadata": {},
   "outputs": [
    {
     "name": "stderr",
     "output_type": "stream",
     "text": [
      "c:\\Users\\Dell\\AppData\\Local\\Programs\\Python\\Python39\\lib\\site-packages\\sklearn\\utils\\validation.py:1300: DataConversionWarning: A column-vector y was passed when a 1d array was expected. Please change the shape of y to (n_samples, ), for example using ravel().\n",
      "  y = column_or_1d(y, warn=True)\n"
     ]
    },
    {
     "name": "stdout",
     "output_type": "stream",
     "text": [
      "Sensitivity: 0.3049921996879875\n",
      "Specificity: 0.9474827087019463\n",
      "Posterior Probability: [[9.84756080e-01 1.52439199e-02]\n",
      " [9.93541986e-01 6.45801379e-03]\n",
      " [3.22103629e-12 1.00000000e+00]\n",
      " ...\n",
      " [9.78079367e-01 2.19206332e-02]\n",
      " [1.21026493e-05 9.99987897e-01]\n",
      " [9.71722872e-01 2.82771280e-02]]\n",
      "\n",
      "Accuracy: 0.7957002457002457\n"
     ]
    }
   ],
   "source": [
    "classifier = GaussianNB()\n",
    "classifier.fit(x_train, y_train)\n",
    "y_pred = classifier.predict(x_test)\n",
    "\n",
    "tn, fp, fn, tp = confusion_matrix(y_test, y_pred).ravel()\n",
    "sensitivity = tp / (tp + fn)\n",
    "specificity = tn / (tn + fp)\n",
    "print(\"Sensitivity:\", sensitivity)\n",
    "print(\"Specificity:\", specificity)\n",
    "\n",
    "posterior_prob=classifier.predict_proba(x_test)\n",
    "print('Posterior Probability:',posterior_prob)\n",
    "\n",
    "accuracy = accuracy_score(y_test, y_pred)\n",
    "print(\"\\nAccuracy:\", accuracy)"
   ]
  }
 ],
 "metadata": {
  "kernelspec": {
   "display_name": "Python 3",
   "language": "python",
   "name": "python3"
  },
  "language_info": {
   "codemirror_mode": {
    "name": "ipython",
    "version": 3
   },
   "file_extension": ".py",
   "mimetype": "text/x-python",
   "name": "python",
   "nbconvert_exporter": "python",
   "pygments_lexer": "ipython3",
   "version": "3.9.13"
  }
 },
 "nbformat": 4,
 "nbformat_minor": 2
}
